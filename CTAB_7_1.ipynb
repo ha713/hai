{
  "nbformat": 4,
  "nbformat_minor": 0,
  "metadata": {
    "colab": {
      "provenance": [],
      "include_colab_link": true
    },
    "kernelspec": {
      "name": "python3",
      "display_name": "Python 3"
    },
    "language_info": {
      "name": "python"
    }
  },
  "cells": [
    {
      "cell_type": "markdown",
      "metadata": {
        "id": "view-in-github",
        "colab_type": "text"
      },
      "source": [
        "<a href=\"https://colab.research.google.com/github/ha713/hai/blob/main/CTAB_7_1.ipynb\" target=\"_parent\"><img src=\"https://colab.research.google.com/assets/colab-badge.svg\" alt=\"Open In Colab\"/></a>"
      ]
    },
    {
      "cell_type": "markdown",
      "source": [
        "1.일한 시간과 시급을 계산하여 출력하는 코드\n",
        "- 일한시간(hours_worked)\n",
        "- 일한날(day_worked)\n",
        "- 시급(pay_rate)\n",
        "- 월급(monthly_pay)"
      ],
      "metadata": {
        "id": "pqcsdh0Mn3Pv"
      }
    },
    {
      "cell_type": "code",
      "source": [
        "hours_worked = int(input(\"일한 시간을 입력하시오.: \"))  # 사용자로부터 일한 시간을 입력받습니다.\n",
        "\n",
        "day_worked = int(input(\"일한 날짜를 입력하시오.: \"))# 사용자로부터 일한 날짜를 입력받습니다.\n",
        "\n",
        "day_month = hours_worked * day_worked# 일한 시간과 일한 날짜를 곱하여 한 달 동안 총 근무 시간을 계산합니다.\n",
        "\n",
        "pay_rate = int(input(\"시급을 입력하시오.(23년 시급 9620): \"))# 사용자로부터 시급을 입력받습니다.\n",
        "\n",
        "daily_pay = hours_worked * pay_rate # 일한 시간과 시급을 곱하여 일일 급여를 계산합니다.\n",
        "\n",
        "monthly_pay = hours_worked * pay_rate * day_worked # 일한 시간, 시급, 일한 날짜를 곱하여 월급여를 계산합니다.\n",
        "\n",
        "print(f'일한시간은 {hours_worked}이며, 시급은 {pay_rate}이고, 월급여는 {monthly_pay}입니다.') # 계산된 결과를 출력합니다."
      ],
      "metadata": {
        "colab": {
          "base_uri": "https://localhost:8080/"
        },
        "id": "gu4lS2QapGg0",
        "outputId": "f55cd598-d9f7-458f-bd92-2c31b7b2e3c8"
      },
      "execution_count": null,
      "outputs": [
        {
          "output_type": "stream",
          "name": "stdout",
          "text": [
            "일한 시간을 입력하시오.: 10\n",
            "일한 날짜를 입력하시오.: 25\n",
            "시급을 입력하시오.(23년 시급 9620): 9620\n",
            "일한시간은 10이며, 시급은 9620이고, 월급여는 2405000입니다.\n"
          ]
        }
      ]
    },
    {
      "cell_type": "markdown",
      "source": [
        "위 코드는 사용자로부터 일한 시간, 일한 날짜, 시급을 입력받아 월급여를 계산하고 출력하는 코드입니다.\n",
        "\n",
        "hours_worked = int(input(\"일한 시간을 입력하시오.: \")): 사용자로부터 일한 시간을 정수형으로 입력받아 변수 hours_worked에 저장합니다.\n",
        "day_worked = int(input(\"일한 날짜를 입력하시오.: \")): 사용자로부터 일한 날짜를 정수형으로 입력받아 변수 day_worked에 저장합니다.\n",
        "day_month = hours_worked * day_worked: 일한 시간과 일한 날짜를 곱하여 한 달 동안 총 근무 시간을 계산하여 변수 day_month에 저장합니다.\n",
        "pay_rate = int(input(\"시급을 입력하시오.(23년 시급 9620): \")): 사용자로부터 시급을 정수형으로 입력받아 변수 pay_rate에 저장합니다.\n",
        "daily_pay = hours_worked * pay_rate: 일한 시간과 시급을 곱하여 일일 급여를 계산하여 변수 daily_pay에 저장합니다.\n",
        "monthly_pay = hours_worked * pay_rate * day_worked: 일한 시간, 시급, 일한 날짜를 곱하여 월급여를 계산하여 변수 monthly_pay에 저장합니다.\n",
        "print(f'일한시간은 {hours_worked}이며, 시급은 {pay_rate}이고, 월급여는 {monthly_pay}입니다.'): 계산된 결과를 출력합니다.\n",
        "이렇게 코드는 사용자로부터 입력받은 정보를 바탕으로 월급여를 계산하고 출력하는 기능을 수행합니다."
      ],
      "metadata": {
        "id": "dqiYJAK55RZN"
      }
    },
    {
      "cell_type": "markdown",
      "source": [
        "2. 환전하는 코드를 작성\n",
        "- 변수 won, usd, exchange\n",
        "- 계산 won * usd\n"
      ],
      "metadata": {
        "id": "-Xc_Emjhuogy"
      }
    },
    {
      "cell_type": "code",
      "source": [
        "\n",
        "usd = int(input(\"환전할 달러를 입력: \")) # 사용자로부터 환전할 달러를 입력받습니다.\n",
        "\n",
        "won = int(input(\"달러의 환율금액을 입력하세요(231031: 1372원): \"))# 사용자로부터 달러의 환율을 입력받습니다.\n",
        "\n",
        "exchange = won * usd # 환전한 금액을 계산합니다.\n",
        "\n",
        "print(f'환전하고 싶은 {usd}달러는 환율 {won}으로 계산하면, {exchange}원 입니다.') # 계산된 결과를 출력합니다."
      ],
      "metadata": {
        "colab": {
          "base_uri": "https://localhost:8080/"
        },
        "id": "vSyzR0njvBgM",
        "outputId": "a0db375a-6ea4-4b1c-bd4c-68166c1623fd"
      },
      "execution_count": null,
      "outputs": [
        {
          "output_type": "stream",
          "name": "stdout",
          "text": [
            "환전할 달러를 입력: 500\n",
            "달러의 환율금약 입력(231031: 1372원)1372\n",
            "환전하고 싶은 500달러는 환율 1372으로 계산하면, 686000원 입니다. \n"
          ]
        }
      ]
    },
    {
      "cell_type": "markdown",
      "source": [
        "위 코드는 사용자로부터 환전할 달러와 달러의 환율을 입력받아 원화로 환전한 금액을 계산하고 출력하는 코드입니다.\n",
        "\n",
        "usd = int(input(\"환전할 달러를 입력: \")): 사용자로부터 환전할 달러를 정수형으로 입력받아 변수 usd에 저장합니다.\n",
        "won = int(input(\"달러의 환율금액을 입력하세요(231031: 1372원): \")): 사용자로부터 달러의 환율을 정수형으로 입력받아 변수 won에 저장합니다.\n",
        "exchange = won * usd: 입력받은 달러와 환율을 곱하여 환전한 금액을 계산하여 변수 exchange에 저장합니다.\n",
        "print(f'환전하고 싶은 {usd}달러는 환율 {won}으로 계산하면, {exchange}원 입니다.'): 계산된 결과를 출력합니다.\n",
        "이 코드는 사용자로부터 입력받은 환전할 달러와 환율을 바탕으로 환전한 금액을 계산하여 출력하는 기능을 수행합니다.\n"
      ],
      "metadata": {
        "id": "qnm2G4-U7Ev9"
      }
    },
    {
      "cell_type": "markdown",
      "source": [
        "3. 화씨를 섭씨로 섭씨를 화씨로 변경하는 코드\n",
        "- 화씨를 섭씨로 ℉ = ℃ * 1.8 + 32\n",
        "- 섭씨를 화씨로 ℃ = (℉ - 32)/1.8\n",
        "- 변수 : 화씨 fahrenheit, 섭씨 celsius\n"
      ],
      "metadata": {
        "id": "inqiwtYxyKjc"
      }
    },
    {
      "cell_type": "code",
      "source": [
        "\n",
        "fahrenheit = int(input(\"화씨를 입력하시오.:\"))# 사용자로부터 화씨 온도를 입력받습니다.\n",
        "\n",
        "\n",
        "celsius = (fahrenheit - 32) / 1.8# 입력받은 화씨 온도를 섭씨 온도로 변환합니다.\n",
        "\n",
        "\n",
        "print(celsius) # 변환된 섭씨 온도를 출력합니다."
      ],
      "metadata": {
        "colab": {
          "base_uri": "https://localhost:8080/"
        },
        "id": "66pVS2bDzfAx",
        "outputId": "1c256ded-38b7-4c08-aa05-7c9cb7d79479"
      },
      "execution_count": null,
      "outputs": [
        {
          "output_type": "stream",
          "name": "stdout",
          "text": [
            "화씨를 입력하시오.:100\n",
            "37.77777777777778\n"
          ]
        }
      ]
    },
    {
      "cell_type": "markdown",
      "source": [
        "위 코드는 사용자로부터 화씨 온도를 입력받아 이를 섭씨 온도로 변환하고 출력하는 코드입니다.\n",
        "\n",
        "fahrenheit = int(input(\"화씨를 입력하시오.:\")): 사용자로부터 화씨 온도를 정수형으로 입력받아 변수 fahrenheit에 저장합니다.\n",
        "celsius = (fahrenheit - 32) / 1.8: 입력받은 화씨 온도를 섭씨 온도로 변환하기 위해 (화씨 - 32) / 1.8 연산을 수행하여 섭씨 온도를 계산하고 변수 celsius에 저장합니다.\n",
        "print(celsius): 변환된 섭씨 온도를 출력합니다.\n",
        "위 코드는 사용자로부터 입력받은 화씨 온도를 섭씨 온도로 변환하여 출력하는 기능을 수행합니다. 변환 공식인 (화씨 - 32) / 1.8을 활용하여 섭씨 온도를 계산하고 이를 출력합니다."
      ],
      "metadata": {
        "id": "Np8IPbls7cqt"
      }
    },
    {
      "cell_type": "code",
      "source": [
        "\n",
        "celsius = float(input(\"섭씨를 입력하시오.:\"))# 사용자로부터 섭씨 온도를 입력받습니다.\n",
        "\n",
        "\n",
        "fahrenheit = celsius * 1.8 + 32# 입력받은 섭씨 온도를 화씨 온도로 변환합니다.\n",
        "\n",
        "\n",
        "print(fahrenheit) # 변환된 화씨 온도를 출력합니다.\n",
        "위 코드는 사용자로부터 섭씨"
      ],
      "metadata": {
        "colab": {
          "base_uri": "https://localhost:8080/"
        },
        "id": "M-4WKhq30Nbz",
        "outputId": "f97737d0-5548-4767-cfb3-a473202b8c50"
      },
      "execution_count": null,
      "outputs": [
        {
          "output_type": "stream",
          "name": "stdout",
          "text": [
            "섭씨를 입력하시오.:37.77777777777778\n",
            "100.0\n"
          ]
        }
      ]
    },
    {
      "cell_type": "markdown",
      "source": [
        "위 코드는 사용자로부터 섭씨 온도를 입력받아 이를 화씨 온도로 변환하고 출력하는 코드입니다.\n",
        "\n",
        "celsius = float(input(\"섭씨를 입력하시오.:\")): 사용자로부터 섭씨 온도를 실수형으로 입력받아 변수 celsius에 저장합니다.\n",
        "fahrenheit = celsius * 1.8 + 32: 입력받은 섭씨 온도를 화씨 온도로 변환하기 위해 섭씨 * 1.8 + 32 연산을 수행하여 화씨 온도를 계산하고 변수 fahrenheit에 저장합니다.\n",
        "print(fahrenheit): 변환된 화씨 온도를 출력합니다.\n",
        "위 코드는 사용자로부터 입력받은 섭씨 온도를 화씨 온도로 변환하여 출력하는 기능을 수행합니다. 변환 공식인 섭씨 * 1.8 + 32을 활용하여 화씨 온도를 계산하고 이를 출력합니다."
      ],
      "metadata": {
        "id": "iVwDfs6574Lt"
      }
    }
  ]
}