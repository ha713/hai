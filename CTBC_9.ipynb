{
  "nbformat": 4,
  "nbformat_minor": 0,
  "metadata": {
    "colab": {
      "provenance": [],
      "include_colab_link": true
    },
    "kernelspec": {
      "name": "python3",
      "display_name": "Python 3"
    },
    "language_info": {
      "name": "python"
    }
  },
  "cells": [
    {
      "cell_type": "markdown",
      "metadata": {
        "id": "view-in-github",
        "colab_type": "text"
      },
      "source": [
        "<a href=\"https://colab.research.google.com/github/ha713/hai/blob/main/CTBC_9.ipynb\" target=\"_parent\"><img src=\"https://colab.research.google.com/assets/colab-badge.svg\" alt=\"Open In Colab\"/></a>"
      ]
    },
    {
      "cell_type": "markdown",
      "source": [
        "1. 두가지 이상의 선택, 다방향 선택구조 코딩\n",
        " - 배송료 처리 3가지로 코딩\n",
        "- 변수:price\n",
        "- 조건: 10만원 이상 배송비 0,2만원 이상은 3천원,2만원 이하면5천원\n"
      ],
      "metadata": {
        "id": "yMvlRTvxrtVS"
      }
    },
    {
      "cell_type": "code",
      "source": [
        "price = int(input(\"구입금액 입력: \"))                # 변수 price 사용자가 정수형 금액입력\n",
        "if price >= 100000:                                  # price의 값이 10만원보다 크거나 같으면\n",
        "  shipping_cost = 0                                  # 선택1. 배송료(shipping_cost)는 0원\n",
        "else:                                              # 그게 아니면\n",
        "    if price >= 20000:                               # 선택2. price값이 2만원보다 크거나 같으면\n",
        "      shipping_cost= 3000                          # 배송료(shipping_cost)는 3000원\n",
        "    else:                                           #그것도 아니면\n",
        "     shipping_cost = 5000                        #선택3, 배송료(shiping_cost)는 5000원\n",
        "print(f'배송료는 {shipping_cost}원 입니다.')       # F-String문자 Format으로 최종 배송료출력"
      ],
      "metadata": {
        "id": "vnzole3Xswb5",
        "colab": {
          "base_uri": "https://localhost:8080/"
        },
        "outputId": "e881a607-4c01-4324-baad-eeb73773312d"
      },
      "execution_count": null,
      "outputs": [
        {
          "output_type": "stream",
          "name": "stdout",
          "text": [
            "구입금액 입력: 25000\n",
            "배송료는 3000원 입니다.\n"
          ]
        }
      ]
    },
    {
      "cell_type": "markdown",
      "source": [
        "이 코드는 구입 금액에 따라 배송료를 계산하여 출력하는 기능을 가지고 있습니다. 사용자는 구입금액 입력:이라는 메시지가 표시된 후 구입 금액을 입력하게 됩니다. 그리고 입력된 구입 금액에 따라 다음과 같이 배송료가 결정됩니다:\n",
        "\n",
        "만약 구입 금액이 100,000원 이상이라면 배송료는 0원입니다.\n",
        "구입 금액이 100,000원 미만인 경우:\n",
        "만약 구입 금액이 20,000원 이상이라면 배송료는 3,000원입니다.\n",
        "그렇지 않으면(구입 금액이 20,000원 미만인 경우) 배송료는 5,000원입니다.\n",
        "최종 배송료는 배송료는 {shipping_cost}원 입니다.라는 메시지를 통해 출력됩니다."
      ],
      "metadata": {
        "id": "OfKkEVkpWBas"
      }
    },
    {
      "cell_type": "markdown",
      "source": [
        "2. 반복구조를 이용한 \"환영합니다.\"를 5번 출력하는 코드작성\n",
        "- 변수 : welcome\n",
        "- 출력내용 : 환영합니다.를 세로로 5번,10번,30번\n"
      ],
      "metadata": {
        "id": "vgdp-vpTynHt"
      }
    },
    {
      "cell_type": "code",
      "source": [
        "print(\"환영합니다.\")  # \"환영합니다.\"라는 메시지를 출력합니다.\n",
        "print(\"환영합니다.\")  # \"환영합니다.\"라는 메시지를 출력합니다.\n",
        "print(\"환영합니다.\")  # \"환영합니다.\"라는 메시지를 출력합니다.\n",
        "print(\"환영합니다.\")  # \"환영합니다.\"라는 메시지를 출력합니다.\n",
        "print(\"환영합니다.\")  # \"환영합니다.\"라는 메시지를 출력합니다."
      ],
      "metadata": {
        "colab": {
          "base_uri": "https://localhost:8080/"
        },
        "id": "aPLBYQZey9K6",
        "outputId": "92d41840-52b9-4cf4-f6a5-99ad9a93055d"
      },
      "execution_count": null,
      "outputs": [
        {
          "output_type": "stream",
          "name": "stdout",
          "text": [
            "환영합니다.\n",
            "환영합니다.\n",
            "환영합니다.\n",
            "환영합니다.\n",
            "환영합니다.\n"
          ]
        }
      ]
    },
    {
      "cell_type": "markdown",
      "source": [
        "이 코드는 \"환영합니다.\"라는 메시지를 5번 출력하는 기능을 가지고 있습니다. print() 함수를 사용하여 메시지를 출력하고, 이를 5번 반복하여 메시지를 출력합니다.\n",
        "\n",
        "코드 실행 시 다음과 같은 결과가 출력됩니다:\n"
      ],
      "metadata": {
        "id": "cGtxBPDJWSWB"
      }
    },
    {
      "cell_type": "code",
      "source": [
        "print(\"환영합니다.\\n\" * 5 )"
      ],
      "metadata": {
        "colab": {
          "base_uri": "https://localhost:8080/"
        },
        "id": "Fh2hGE_KzGog",
        "outputId": "e5b17566-5d29-49f8-e3c4-fa1d14c0fae9"
      },
      "execution_count": null,
      "outputs": [
        {
          "output_type": "stream",
          "name": "stdout",
          "text": [
            "환영합니다.\n",
            "환영합니다.\n",
            "환영합니다.\n",
            "환영합니다.\n",
            "환영합니다.\n",
            "\n"
          ]
        }
      ]
    },
    {
      "cell_type": "markdown",
      "source": [
        "이 코드는 \"환영합니다.\\n\"라는 문자열을 5번 반복하여 출력하는 코드입니다. \"\\n\"은 줄바꿈을 나타내는 이스케이프 시퀀스입니다. 코드 실행 시 다음과 같은 결과가 출력됩니다:\n",
        "\n",
        "환영합니다.\n",
        "환영합니다.\n",
        "환영합니다.\n",
        "환영합니다.\n",
        "환영합니다.\n",
        "이 코드는 print() 함수를 사용하여 문자열을 출력합니다. 문자열 \"환영합니다.\\n\"은 \"환영합니다.\"라는 문구와 줄바꿈을 포함합니다. 그리고 이 문자열을 5번 반복하여 출력합니다.\n",
        "\n",
        "따라서 위 코드는 \"환영합니다.\"라는 메시지를 줄바꿈과 함께 5번 출력하는 코드입니다."
      ],
      "metadata": {
        "id": "b8JbIU2GW8IC"
      }
    },
    {
      "cell_type": "code",
      "source": [
        "count = 0  # 변수 count를 0으로 초기화합니다.\n",
        "\n",
        "while count <= 5:  # count가 5 이하인 동안 반복합니다.\n",
        "    print(\"(\", count, \")\", \"환영합니다.\")  # \"(\", count, \")\", \"환영합니다.\"를 출력합니다.\n",
        "    count = count + 1  # count를 1씩 증가시킵니다."
      ],
      "metadata": {
        "colab": {
          "base_uri": "https://localhost:8080/"
        },
        "id": "Je4mIk9Czni8",
        "outputId": "6b66a478-799f-4cec-cc6b-3b1093fd5e0c"
      },
      "execution_count": null,
      "outputs": [
        {
          "output_type": "stream",
          "name": "stdout",
          "text": [
            "( 0 ) 환영합니다.\n",
            "( 1 ) 환영합니다.\n",
            "( 2 ) 환영합니다.\n",
            "( 3 ) 환영합니다.\n",
            "( 4 ) 환영합니다.\n",
            "( 5 ) 환영합니다.\n"
          ]
        }
      ]
    },
    {
      "cell_type": "markdown",
      "source": [
        "이 코드는 while 반복문을 사용하여 \"(\", count, \")\", \"환영합니다.\"라는 메시지를 출력합니다. 반복문은 count 변수가 5 이하인 동안 실행됩니다.\n",
        "\n",
        "반복문 내에서 print() 함수를 사용하여 메시지를 출력합니다. count 변수의 값은 (와 ) 사이에 출력되며, \"환영합니다.\" 메시지는 계속 반복하여 출력됩니다.\n",
        "\n",
        "count = count + 1을 통해 count 변수를 1씩 증가시킵니다. 이렇게 하면 반복문이 실행될 때마다 count 변수의 값이 증가하게 됩니다.\n",
        "\n",
        "코드 실행 시 다음과 같은 결과가 출력됩니다:\n",
        "\n",
        "( 0 ) 환영합니다.\n",
        "( 1 ) 환영합니다.\n",
        "( 2 ) 환영합니다.\n",
        "( 3 ) 환영합니다.\n",
        "( 4 ) 환영합니다.\n",
        "( 5 ) 환영합니다.\n",
        "이렇게 \"환영합니다.\" 메시지와 count 변수의 값이 함께 출력되는 코드입니다."
      ],
      "metadata": {
        "id": "UpcI3k7PXM2x"
      }
    },
    {
      "cell_type": "markdown",
      "source": [
        "3. 0부터 9까지 출력하는 코드 작성\n",
        "- 변수 : x\n"
      ],
      "metadata": {
        "id": "z71dLmf_1hb2"
      }
    },
    {
      "cell_type": "code",
      "source": [
        "x = 0  # 변수 x를 0으로 초기화합니다.\n",
        "\n",
        "while x < 10:  # x가 10보다 작은 동안 반복합니다.\n",
        "    # print(x)\n",
        "    print(x, end=' ')  # x를 출력하고, 출력 후에 줄바꿈 대신 공백을 사용합니다.\n",
        "    x = x + 1  # x를 1씩 증가시킵니다."
      ],
      "metadata": {
        "colab": {
          "base_uri": "https://localhost:8080/"
        },
        "id": "MiDoNsEG1rrG",
        "outputId": "812aa145-e106-485f-b79d-53d34c62f2b9"
      },
      "execution_count": null,
      "outputs": [
        {
          "output_type": "stream",
          "name": "stdout",
          "text": [
            "0 1 2 3 4 5 6 7 8 9 "
          ]
        }
      ]
    },
    {
      "cell_type": "markdown",
      "source": [
        "이 코드는 while 반복문을 사용하여 0부터 9까지의 숫자를 출력합니다. 반복문은 x 변수가 10보다 작은 동안 실행됩니다.\n",
        "\n",
        "반복문 내에서 print() 함수를 사용하여 x 값을 출력합니다. end=' '를 사용하여 출력 후에 줄바꿈 대신 공백을 사용합니다. 따라서 숫자들은 공백으로 구분되어 한 줄에 출력됩니다.\n",
        "\n",
        "x = x + 1을 통해 x 변수를 1씩 증가시킵니다. 이렇게 하면 반복문이 실행될 때마다 x 변수의 값이 증가하게 됩니다.\n",
        "\n",
        "코드 실행 시 다음과 같은 결과가 출력됩니다:\n",
        "\n",
        "0 1 2 3 4 5 6 7 8 9\n",
        "이렇게 0부터 9까지의 숫자가 공백으로 구분되어 출력되는 코드입니다."
      ],
      "metadata": {
        "id": "Gqg6zkmGXi0S"
      }
    },
    {
      "cell_type": "markdown",
      "source": [
        "4. 1부터 10시까지 합산하는 코드작성"
      ],
      "metadata": {
        "id": "HwFhWYUK3Em6"
      }
    },
    {
      "cell_type": "code",
      "source": [
        "x = 1  # 변수 x를 1로 초기화합니다.\n",
        "total = 0  # 변수 total을 0으로 초기화합니다.\n",
        "\n",
        "while x <= 10:  # x가 10보다 작거나 같은 동안 반복합니다.\n",
        "    total += x  # total에 x를 더합니다. total = total + x와 동일한 의미입니다.\n",
        "    # total = total + x\n",
        "    # x = x + 1\n",
        "    x += 1  # x를 1씩 증가시킵니다.\n",
        "\n",
        "print(total)  # total 값을 출력합니다."
      ],
      "metadata": {
        "colab": {
          "base_uri": "https://localhost:8080/"
        },
        "id": "tQGWUnUU3J50",
        "outputId": "9eed8550-30d6-489d-8b2d-f283e6e0c57d"
      },
      "execution_count": null,
      "outputs": [
        {
          "output_type": "stream",
          "name": "stdout",
          "text": [
            "55\n"
          ]
        }
      ]
    },
    {
      "cell_type": "markdown",
      "source": [
        "이 코드는 while 반복문을 사용하여 1부터 10까지의 숫자를 누적하여 합산합니다. 반복문은 x 변수가 10보다 작거나 같은 동안 실행됩니다.\n",
        "\n",
        "반복문 내에서 total += x를 통해 total 변수에 x 값을 더합니다. 이는 total = total + x와 동일한 의미입니다. 따라서 반복문이 실행될 때마다 x 값을 total에 누적하여 합산합니다.\n",
        "\n",
        "x += 1을 통해 x 변수를 1씩 증가시킵니다. 이렇게 하면 반복문이 실행될 때마다 x 변수의 값이 증가하게 됩니다.\n",
        "\n",
        "코드 실행 시 total 변수에는 1부터 10까지의 숫자가 누적된 합이 저장되며, 이 값을 print() 함수를 사용하여 출력합니다.\n",
        "\n",
        "실행 결과는 다음과 같습니다:\n",
        "\n",
        "55\n",
        "따라서 1부터 10까지의 숫자를 더한 결과인 55가 출력됩니다."
      ],
      "metadata": {
        "id": "XTYGFZ1yXz16"
      }
    },
    {
      "cell_type": "markdown",
      "source": [
        "5. 3-6-9 게임(3의 배수 판단): 3의 배수를 3으로 나누면 나머지가 0이 되므로(i mod 3)의 값이 0이면 박수를 출력, 아니면 숫자 출력하는 코드"
      ],
      "metadata": {
        "id": "HZ3kx0-J4LgX"
      }
    },
    {
      "cell_type": "code",
      "source": [
        "for num in range(1, 11):  # 1부터 10까지의 숫자에 대해 반복합니다.\n",
        "    if num % 3 == 0:  # num이 3의 배수인지 확인합니다.\n",
        "        print(\"박수\", end=' ')  # 3의 배수인 경우 \"박수\"를 출력합니다.\n",
        "    else:\n",
        "        print(num, end=' ')  # 3의 배수가 아닌 경우 숫자를 출력합니다."
      ],
      "metadata": {
        "colab": {
          "base_uri": "https://localhost:8080/"
        },
        "id": "ckeeoVqu4Ht0",
        "outputId": "24d39a12-e2b9-4bd6-a2b3-c081c672391e"
      },
      "execution_count": null,
      "outputs": [
        {
          "output_type": "stream",
          "name": "stdout",
          "text": [
            "1 2 박수 4 5 박수 7 8 박수 10 "
          ]
        }
      ]
    },
    {
      "cell_type": "markdown",
      "source": [
        "이 코드는 for 반복문을 사용하여 1부터 10까지의 숫자에 대해 반복합니다. range(1, 11)은 1부터 10까지의 범위를 나타냅니다.\n",
        "\n",
        "반복문 내에서 if 문을 사용하여 현재 숫자 num이 3의 배수인지 확인합니다. num % 3 == 0은 num을 3으로 나눈 나머지가 0인지를 확인하는 조건식입니다.\n",
        "\n",
        "만약 num이 3의 배수라면, 즉 조건식이 참이라면 \"박수\"를 출력합니다. 이 때, end=' '를 사용하여 출력 후에 줄바꿈 대신 공백을 사용합니다.\n",
        "\n",
        "반대로, num이 3의 배수가 아니라면, 즉 조건식이 거짓이라면 숫자 num을 출력합니다.\n",
        "\n",
        "코드 실행 시 다음과 같은 결과가 출력됩니다:\n",
        "\n",
        "1 2 박수 4 5 박수 7 8 박수 10\n",
        "이렇게 1부터 10까지의 숫자 중에서 3의 배수인 경우 \"박수\"가 출력되고, 그 외의 경우에는 해당 숫자가 출력됩니다."
      ],
      "metadata": {
        "id": "bIlghhDcYDvC"
      }
    },
    {
      "cell_type": "code",
      "source": [
        "num = 1  # 변수 num을 1로 초기화합니다.\n",
        "\n",
        "while num <= 30:  # num이 30보다 작거나 같은 동안 반복합니다.\n",
        "    if num % 3 == 0:  # num이 3의 배수인지 확인합니다.\n",
        "        print(\"박수\", end=' ')  # 3의 배수인 경우 \"박수\"를 출력합니다.\n",
        "    else:\n",
        "        print(num, end=' ')  # 3의 배수가 아닌 경우 숫자를 출력합니다.\n",
        "    num += 1  # num을 1씩 증가시킵니다."
      ],
      "metadata": {
        "colab": {
          "base_uri": "https://localhost:8080/"
        },
        "id": "_o9IXbPM5SMD",
        "outputId": "65fa5ae8-105b-426b-b9da-bd4963574307"
      },
      "execution_count": null,
      "outputs": [
        {
          "output_type": "stream",
          "name": "stdout",
          "text": [
            "1 2 박수 4 5 박수 7 8 박수 10 11 박수 13 14 박수 16 17 박수 19 20 박수 22 23 박수 25 26 박수 28 29 박수 "
          ]
        }
      ]
    },
    {
      "cell_type": "markdown",
      "source": [
        "이 코드는 while 반복문을 사용하여 1부터 30까지의 숫자에 대해 반복합니다. 반복문은 num 변수가 30보다 작거나 같은 동안 실행됩니다.\n",
        "\n",
        "반복문 내에서 if 문을 사용하여 현재 숫자 num이 3의 배수인지 확인합니다. num % 3 == 0은 num을 3으로 나눈 나머지가 0인지를 확인하는 조건식입니다.\n",
        "\n",
        "만약 num이 3의 배수라면, 즉 조건식이 참이라면 \"박수\"를 출력합니다. 이 때, end=' '를 사용하여 출력 후에 줄바꿈 대신 공백을 사용합니다.\n",
        "\n",
        "반대로, num이 3의 배수가 아니라면, 즉 조건식이 거짓이라면 숫자 num을 출력합니다.\n",
        "\n",
        "마지막으로, num += 1을 통해 num 변수를 1씩 증가시킵니다. 이렇게 하면 반복문이 실행될 때마다 num 변수의 값이 증가하게 됩니다.\n",
        "\n",
        "코드 실행 시 다음과 같은 결과가 출력됩니다:\n",
        "\n",
        "1 2 박수 4 5 박수 7 8 박수 10 11 박수 13 14 박수 16 17 박수 19 20 박수 22 23 박수 25 26 박수 28 29 박수\n",
        "이렇게 1부터 30까지의 숫자 중에서 3의 배수인 경우 \"박수\"가 출력되고, 그 외의 경우에는 해당 숫자가 출력됩니다."
      ],
      "metadata": {
        "id": "CxtcmBxJYRwj"
      }
    }
  ]
}