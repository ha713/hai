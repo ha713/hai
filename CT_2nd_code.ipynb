{
  "nbformat": 4,
  "nbformat_minor": 0,
  "metadata": {
    "colab": {
      "provenance": [],
      "include_colab_link": true
    },
    "kernelspec": {
      "name": "python3",
      "display_name": "Python 3"
    },
    "language_info": {
      "name": "python"
    }
  },
  "cells": [
    {
      "cell_type": "markdown",
      "metadata": {
        "id": "view-in-github",
        "colab_type": "text"
      },
      "source": [
        "<a href=\"https://colab.research.google.com/github/ha713/hai/blob/main/CT_2nd_code.ipynb\" target=\"_parent\"><img src=\"https://colab.research.google.com/assets/colab-badge.svg\" alt=\"Open In Colab\"/></a>"
      ]
    },
    {
      "cell_type": "code",
      "execution_count": null,
      "metadata": {
        "id": "5101NEXGk2pl"
      },
      "outputs": [],
      "source": []
    },
    {
      "cell_type": "markdown",
      "source": [
        "2. 사용자로부터 3개의 변수로 입력받아서 합을 구하고, 평균을 구하는\n",
        "코드\n",
        "- 변수는 n1,n2,n3,total,averge\n",
        "\n"
      ],
      "metadata": {
        "id": "Ic_o0GI6lSLv"
      }
    },
    {
      "cell_type": "markdown",
      "source": [],
      "metadata": {
        "id": "F1Xk7uhQnoOP"
      }
    },
    {
      "cell_type": "code",
      "source": [
        "n1 = int(input(\"n1의 값을 입력하시오.:\"))  # 사용자로부터 n1의 값을 입력받아 정수형으로 변환하여 n1 변수에 저장합니다.\n",
        "n2 = int(input(\"n2의 값을 입력하시오.:\"))  # 사용자로부터 n2의 값을 입력받아 정수형으로 변환하여 n2 변수에 저장합니다.\n",
        "n3 = int(input(\"n3의 값을 입력하시오.:\"))  # 사용자로부터 n3의 값을 입력받아 정수형으로 변환하여 n3 변수에 저장합니다.\n",
        "total = n1 + n2 + n3  # n1, n2, n3의 합을 계산하여 total 변수에 저장합니다.\n",
        "print('합계는:', total)  # total 변수의 값을 출력합니다.\n",
        "average = total / 3  # total을 3으로 나눈 평균을 계산하여 average 변수에 저장합니다.\n",
        "print('평균은:', average)  # average 변수의 값을 출력합니다.\n",
        "\n",
        "\n"
      ],
      "metadata": {
        "colab": {
          "base_uri": "https://localhost:8080/"
        },
        "id": "wr6ZhoF6nodu",
        "outputId": "f1c3f96a-04c2-4834-d2dc-9c241f8bd358"
      },
      "execution_count": null,
      "outputs": [
        {
          "output_type": "stream",
          "name": "stdout",
          "text": [
            "n1의 값을 입력하시오.:50\n",
            "n2의 값을 입력하시오.:60\n",
            "n3의 값을 입력하시오.:70\n",
            "합계는 : 180\n",
            "평균은 ; 60.0\n"
          ]
        }
      ]
    },
    {
      "cell_type": "markdown",
      "source": [
        " 코드는 사용자로부터 세 개의 정수를 입력받아 합계와 평균을 계산하여 출력하는 코드입니다.\n",
        "\n",
        "n1 = int(input(\"n1의 값을 입력하시오.:\"))는 사용자로부터 n1의 값을 입력받아 정수형으로 변환하여 n1 변수에 저장합니다.\n",
        "n2 = int(input(\"n2의 값을 입력하시오.:\"))는 사용자로부터 n2의 값을 입력받아 정수형으로 변환하여 n2 변수에 저장합니다.\n",
        "n3 = int(input(\"n3의 값을 입력하시오.:\"))는 사용자로부터 n3의 값을 입력받아 정수형으로 변환하여 n3 변수에 저장합니다.\n",
        "total = n1 + n2 + n3는 변수 n1, n2, n3의 합을 계산하여 total 변수에 저장합니다.\n",
        "print('합계는:', total)은 total 변수의 값을 출력합니다.\n",
        "average = total / 3은 total을 3으로 나눈 평균을 계산하여 average 변수에 저장합니다.\n",
        "print('평균은:', average)은 average 변수의 값을 출력합니다.\n",
        "위 코드를 실행하면 사용자로부터 세 개의 정수를 입력받아 합계와 평균을 계산하여 출력합니다."
      ],
      "metadata": {
        "id": "K7PgNxCnc3FB"
      }
    }
  ]
}