{
  "nbformat": 4,
  "nbformat_minor": 0,
  "metadata": {
    "colab": {
      "provenance": [],
      "include_colab_link": true
    },
    "kernelspec": {
      "name": "python3",
      "display_name": "Python 3"
    },
    "language_info": {
      "name": "python"
    }
  },
  "cells": [
    {
      "cell_type": "markdown",
      "metadata": {
        "id": "view-in-github",
        "colab_type": "text"
      },
      "source": [
        "<a href=\"https://colab.research.google.com/github/ha713/hai/blob/main/Untitled0.ipynb\" target=\"_parent\"><img src=\"https://colab.research.google.com/assets/colab-badge.svg\" alt=\"Open In Colab\"/></a>"
      ]
    },
    {
      "cell_type": "code",
      "execution_count": null,
      "metadata": {
        "id": "_QTm4F061Vxz"
      },
      "outputs": [],
      "source": []
    },
    {
      "cell_type": "markdown",
      "source": [
        "4. 사용자로부터 2개의 정수를 받아서 합계를 출력하시오.\n",
        " - 정수x\n",
        " - 정수y\n",
        "\n"
      ],
      "metadata": {
        "id": "ZTOVsWSO1g-x"
      }
    },
    {
      "cell_type": "code",
      "source": [
        "print(\"정수 2개를 입력하시오.:\")  # \"정수 2개를 입력하시오.\" 메시지를 화면에 출력합니다.\n",
        "x = int(input('x의 값을 입력하시오.: '))  # 사용자로부터 x의 값을 입력받아 정수형으로 변환하여 x 변수에 저장합니다.\n",
        "y = int(input('y의 값을 입력하시오.: '))  # 사용자로부터 y의 값을 입력받아 정수형으로 변환하여 y 변수에 저장합니다.\n",
        "sum = x + y  # x와 y의 합을 구하여 sum 변수에 저장합니다.\n",
        "print(sum)  # sum 변수의 값을 출력합니다.\n",
        "print(f'정수 {x} + 정수 {y}의 값은 {sum}이다.')  # 입력된 정수 x와 y의 합을 출력합니다."
      ],
      "metadata": {
        "colab": {
          "base_uri": "https://localhost:8080/"
        },
        "id": "5zibB45c1tIj",
        "outputId": "00092a17-6817-44f5-f3ba-9ae8ff7f915c"
      },
      "execution_count": null,
      "outputs": [
        {
          "output_type": "stream",
          "name": "stdout",
          "text": [
            "정수 2개를 입력하시오.:\n",
            "x의 값을 입력하시오.: 6\n",
            "y의 값을 입력하시오.: 5\n",
            "11\n",
            "정수 6 + 정수 5의 값은 11이다.\n"
          ]
        }
      ]
    },
    {
      "cell_type": "markdown",
      "source": [
        "위 코드는 사용자로부터 두 개의 정수를 입력받고, 입력된 정수들의 합을 계산하여 출력하는 코드입니다.\n",
        "\n",
        "print(\"정수 2개를 입력하시오.:\")는 사용자에게 \"정수 2개를 입력하시오.\"라는 메시지를 출력합니다.\n",
        "x = int(input('x의 값을 입력하시오.: '))는 사용자로부터 x의 값을 입력받아 정수형으로 변환하여 x 변수에 저장합니다.\n",
        "y = int(input('y의 값을 입력하시오.: '))는 사용자로부터 y의 값을 입력받아 정수형으로 변환하여 y 변수에 저장합니다.\n",
        "sum = x + y는 변수 x와 y의 합을 계산하여 sum 변수에 저장합니다.\n",
        "print(sum)은 sum 변수의 값을 출력합니다.\n",
        "print(f'정수 {x} + 정수 {y}의 값은 {sum}이다.')는 입력된 정수 x와 y의 합을 출력합니다. 예를 들어, 만약 x에 3, y에 5가 입력되었다면 \"정수 3 + 정수 5의 값은 8이다.\"라는 메시지가 출력됩니다.\n",
        "위 코드를 실행하면 사용자로부터 두 개의 정수를 입력받아 합을 계산하여 출력합니다."
      ],
      "metadata": {
        "id": "m5k9kjNZcFqh"
      }
    },
    {
      "cell_type": "markdown",
      "source": [
        "5. 부가세를 계산히시오.\n",
        "- 상품의 가격(price)\n",
        "- 부가세(vat)\n"
      ],
      "metadata": {
        "id": "FojroTkX2WX4"
      }
    },
    {
      "cell_type": "code",
      "source": [
        "print(\"상품의 가격을 입력하시오.: \")  # \"상품의 가격을 입력하시오.\" 메시지를 화면에 출력합니다.\n",
        "price = int(input('상품의 가격: '))  # 사용자로부터 상품의 가격을 입력받아 정수형으로 변환하여 price 변수에 저장합니다.\n",
        "vat = price * 0.1  # 가격에 10%의 부가세를 계산하여 vat 변수에 저장합니다.\n",
        "print(vat)  # vat 변수의 값을 출력합니다.\n",
        "print(f'상품의 가격은 {price}이며, 부가세는 {vat}이다.')  # 상품의 가격과 부가세를 출력합니다."
      ],
      "metadata": {
        "colab": {
          "base_uri": "https://localhost:8080/"
        },
        "id": "3hdAtIpG2hyJ",
        "outputId": "fb6cc255-e25d-4f1d-a447-0bb6522eb477"
      },
      "execution_count": null,
      "outputs": [
        {
          "output_type": "stream",
          "name": "stdout",
          "text": [
            "상품의 가격을 입력하시오.: \n",
            "상품의 가격: 2000\n",
            "200.0\n",
            "상품의 가격은 2000이며, 부가세는 200.0이다.\n"
          ]
        }
      ]
    },
    {
      "cell_type": "markdown",
      "source": [
        "위 코드는 사용자로부터 상품의 가격을 입력받고, 입력된 가격에 대한 부가세를 계산하여 출력하는 코드입니다.\n",
        "\n",
        "print(\"상품의 가격을 입력하시오.: \")는 사용자에게 \"상품의 가격을 입력하시오.\"라는 메시지를 출력합니다.\n",
        "price = int(input('상품의 가격: '))는 사용자로부터 상품의 가격을 입력받아 정수형으로 변환하여 price 변수에 저장합니다.\n",
        "vat = price * 0.1는 가격에 10%의 부가세를 계산하여 vat 변수에 저장합니다.\n",
        "print(vat)는 vat 변수의 값을 출력합니다.\n",
        "print(f'상품의 가격은 {price}이며, 부가세는 {vat}이다.')는 상품의 가격과 부가세를 출력합니다. 예를 들어, 만약 가격이 100이라면 \"상품의 가격은 100이며, 부가세는 10.0이다.\"라는 메시지가 출력됩니다.\n",
        "위 코드를 실행하면 사용자로부터 상품의 가격을 입력받고, 입력된 가격에 대한 부가세를 계산하여 출력합니다."
      ],
      "metadata": {
        "id": "Yrg0LIILcVBA"
      }
    }
  ]
}