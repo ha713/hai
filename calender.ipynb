{
  "nbformat": 4,
  "nbformat_minor": 0,
  "metadata": {
    "colab": {
      "provenance": [],
      "include_colab_link": true
    },
    "kernelspec": {
      "name": "python3",
      "display_name": "Python 3"
    },
    "language_info": {
      "name": "python"
    }
  },
  "cells": [
    {
      "cell_type": "markdown",
      "metadata": {
        "id": "view-in-github",
        "colab_type": "text"
      },
      "source": [
        "<a href=\"https://colab.research.google.com/github/ha713/hai/blob/main/calender.ipynb\" target=\"_parent\"><img src=\"https://colab.research.google.com/assets/colab-badge.svg\" alt=\"Open In Colab\"/></a>"
      ]
    },
    {
      "cell_type": "code",
      "execution_count": null,
      "metadata": {
        "colab": {
          "base_uri": "https://localhost:8080/"
        },
        "id": "0IUmb61fY3fK",
        "outputId": "56d4c049-b51f-4e11-b404-5cf887108ed5"
      },
      "outputs": [
        {
          "output_type": "stream",
          "name": "stdout",
          "text": [
            "    October 2023\n",
            "Mo Tu We Th Fr Sa Su\n",
            "                   1\n",
            " 2  3  4  5  6  7  8\n",
            " 9 10 11 12 13 14 15\n",
            "16 17 18 19 20 21 22\n",
            "23 24 25 26 27 28 29\n",
            "30 31\n",
            "\n"
          ]
        }
      ],
      "source": [
        "import calendar  # calendar 모듈을 import합니다.\n",
        "\n",
        "yy = 2023  # 변수 yy에 연도를 저장합니다.\n",
        "mm = 10  # 변수 mm에 월을 저장합니다.\n",
        "print(calendar.month(yy, mm))  # calendar 모듈의 month 함수를 사용하여 지정된 연도와 월에 해당하는 달력을 출력합니다."
      ]
    },
    {
      "cell_type": "markdown",
      "source": [
        "위 코드는 calendar 모듈을 사용하여 지정된 연도와 월에 해당하는 달력을 출력하는 코드입니다.\n",
        "\n",
        "import calendar은 calendar 모듈을 현재 스크립트에 import합니다. 이 모듈은 달력과 관련된 기능을 제공합니다.\n",
        "yy = 2023는 변수 yy에 연도를 저장합니다. 예제에서는 2023년을 선택했습니다. 다른 연도로 변경할 수도 있습니다.\n",
        "mm = 10는 변수 mm에 월을 저장합니다. 예제에서는 10월을 선택했습니다. 다른 월로 변경할 수도 있습니다.\n",
        "print(calendar.month(yy, mm))은 calendar 모듈의 month 함수를 사용하여 지정된 연도와 월에 해당하는 달력을 출력합니다. calendar.month 함수는 지정된 연도와 월에 해당하는 달력 문자열을 반환하고, print 함수를 통해 화면에 출력됩니다.\n",
        "위 코드를 실행하면 지정된 연도와 월에 해당하는 달력이 출력됩니다."
      ],
      "metadata": {
        "id": "193lykHfd9oR"
      }
    },
    {
      "cell_type": "markdown",
      "source": [
        "2023년 10월 19일 to do list\n",
        "- 09:10~11:00 컴퓨팅적 사고와 기초코딩\n",
        "- 11:00~12:00 아동건강교육\n",
        "- 12:00~13:00 점심시간\n",
        "- 13:00~16:00 근로\n",
        "- 16:00~20;00 수면시간\n",
        "- 20:00~24:00 기말공부타임\n",
        "\n",
        "\n",
        "Hello World\n"
      ],
      "metadata": {
        "id": "BTXrx30JastD"
      }
    },
    {
      "cell_type": "code",
      "source": [
        "print(\"2023년 10월 19일 to do list\")  # \"2023년 10월 19일 to do list\"를 출력합니다.\n",
        "print(\"09:10~11:00 컴퓨팅적 사고와 기초코딩\")  # \"09:10~11:00 컴퓨팅적 사고와 기초코딩\"을 출력합니다.\n",
        "print(\"11:00~12:00 아동건강교육\")  # \"11:00~12:00 아동건강교육\"을 출력합니다.\n",
        "print(\"12:00~13:00 점심시간\")  # \"12:00~13:00 점심시간\"을 출력합니다.\n",
        "print(\"13:00~16:00 근로\")  # \"13:00~16:00 근로\"을 출력합니다.\n",
        "print(\"16:00~20:00 수면시간\")  # \"16:00~20:00 수면시간\"을 출력합니다.\n",
        "print(\"20:00~24:00 기말공부타임\")  # \"20:00~24:00 기말공부타임\"을 출력합니다."
      ],
      "metadata": {
        "colab": {
          "base_uri": "https://localhost:8080/"
        },
        "id": "SdYO2mJGfMjA",
        "outputId": "a3961cf7-2734-4623-adb5-773cc82a76ab"
      },
      "execution_count": null,
      "outputs": [
        {
          "output_type": "stream",
          "name": "stdout",
          "text": [
            "2023년 10월 19일 to do list\n",
            "09:10~11:00 컴퓨팅적 사고와 기초코딩\n",
            "11:00~12:00 아동건강교육\n",
            "12:00~13:00 점심시간\n",
            "13:00~16:00 근로\n",
            "16:00~20;00 수면시간\n",
            "20:00~24:00 기말공부타임\n"
          ]
        }
      ]
    },
    {
      "cell_type": "markdown",
      "source": [
        "위 코드는 2023년 10월 19일의 일정을 출력하는 코드입니다.\n",
        "\n",
        "print(\"2023년 10월 19일 to do list\")는 \"2023년 10월 19일 to do list\"를 출력합니다. 이 부분은 일정의 제목 또는 날짜를 표시하는 부분입니다.\n",
        "print(\"09:10~11:00 컴퓨팅적 사고와 기초코딩\")부터 print(\"20:00~24:00 기말공부타임\")까지 각각의 print 문은 해당 시간대의 일정을 출력합니다. 예를 들어, \"09:10~11:00 컴퓨팅적 사고와 기초코딩\"은 9시 10분부터 11시까지 \"컴퓨팅적 사고와 기초코딩\"을 의미합니다.\n",
        "위 코드를 실행하면 2023년 10월 19일의 일정이 출력됩니다."
      ],
      "metadata": {
        "id": "hAu6sGr_eKV_"
      }
    }
  ]
}